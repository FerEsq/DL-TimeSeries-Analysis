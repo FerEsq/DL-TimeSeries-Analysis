{
 "cells": [
  {
   "cell_type": "markdown",
   "metadata": {},
   "source": [
    "# Time Series Analysis\n",
    "\n",
    "## Miembros\n",
    "- Andrés Montoya 21552\n",
    "- Fernanda Esquivel 21542\n",
    "- Francisco Castillo 21562\n",
    "- Fabián Juárez 21440\n",
    "- Diego Lemus 21469\n",
    "\n",
    "## Link al repositorio\n",
    "El repositorio puede ser visualizado [acá](https://github.com/FerEsq/DL-TimeSeries-Analysis)"
   ]
  },
  {
   "cell_type": "markdown",
   "metadata": {},
   "source": [
    "# Task 1"
   ]
  },
  {
   "cell_type": "markdown",
   "metadata": {},
   "source": [
    "## Limpieza de datos"
   ]
  },
  {
   "cell_type": "code",
   "execution_count": 3,
   "metadata": {},
   "outputs": [],
   "source": [
    "import pandas as pd\n",
    "import numpy as np\n",
    "from sklearn.preprocessing import StandardScaler"
   ]
  },
  {
   "cell_type": "code",
   "execution_count": 2,
   "metadata": {},
   "outputs": [
    {
     "data": {
      "text/html": [
       "<div>\n",
       "<style scoped>\n",
       "    .dataframe tbody tr th:only-of-type {\n",
       "        vertical-align: middle;\n",
       "    }\n",
       "\n",
       "    .dataframe tbody tr th {\n",
       "        vertical-align: top;\n",
       "    }\n",
       "\n",
       "    .dataframe thead th {\n",
       "        text-align: right;\n",
       "    }\n",
       "</style>\n",
       "<table border=\"1\" class=\"dataframe\">\n",
       "  <thead>\n",
       "    <tr style=\"text-align: right;\">\n",
       "      <th></th>\n",
       "      <th>date</th>\n",
       "      <th>store</th>\n",
       "      <th>item</th>\n",
       "      <th>sales</th>\n",
       "      <th>year</th>\n",
       "      <th>month</th>\n",
       "      <th>day_of_week</th>\n",
       "      <th>sales_scaled</th>\n",
       "    </tr>\n",
       "  </thead>\n",
       "  <tbody>\n",
       "    <tr>\n",
       "      <th>0</th>\n",
       "      <td>2013-01-01</td>\n",
       "      <td>1</td>\n",
       "      <td>1</td>\n",
       "      <td>13</td>\n",
       "      <td>2013</td>\n",
       "      <td>1</td>\n",
       "      <td>1</td>\n",
       "      <td>-1.362804</td>\n",
       "    </tr>\n",
       "    <tr>\n",
       "      <th>1</th>\n",
       "      <td>2013-01-02</td>\n",
       "      <td>1</td>\n",
       "      <td>1</td>\n",
       "      <td>11</td>\n",
       "      <td>2013</td>\n",
       "      <td>1</td>\n",
       "      <td>2</td>\n",
       "      <td>-1.432246</td>\n",
       "    </tr>\n",
       "    <tr>\n",
       "      <th>2</th>\n",
       "      <td>2013-01-03</td>\n",
       "      <td>1</td>\n",
       "      <td>1</td>\n",
       "      <td>14</td>\n",
       "      <td>2013</td>\n",
       "      <td>1</td>\n",
       "      <td>3</td>\n",
       "      <td>-1.328083</td>\n",
       "    </tr>\n",
       "    <tr>\n",
       "      <th>3</th>\n",
       "      <td>2013-01-04</td>\n",
       "      <td>1</td>\n",
       "      <td>1</td>\n",
       "      <td>13</td>\n",
       "      <td>2013</td>\n",
       "      <td>1</td>\n",
       "      <td>4</td>\n",
       "      <td>-1.362804</td>\n",
       "    </tr>\n",
       "    <tr>\n",
       "      <th>4</th>\n",
       "      <td>2013-01-05</td>\n",
       "      <td>1</td>\n",
       "      <td>1</td>\n",
       "      <td>10</td>\n",
       "      <td>2013</td>\n",
       "      <td>1</td>\n",
       "      <td>5</td>\n",
       "      <td>-1.466966</td>\n",
       "    </tr>\n",
       "  </tbody>\n",
       "</table>\n",
       "</div>"
      ],
      "text/plain": [
       "        date  store  item  sales  year  month  day_of_week  sales_scaled\n",
       "0 2013-01-01      1     1     13  2013      1            1     -1.362804\n",
       "1 2013-01-02      1     1     11  2013      1            2     -1.432246\n",
       "2 2013-01-03      1     1     14  2013      1            3     -1.328083\n",
       "3 2013-01-04      1     1     13  2013      1            4     -1.362804\n",
       "4 2013-01-05      1     1     10  2013      1            5     -1.466966"
      ]
     },
     "execution_count": 2,
     "metadata": {},
     "output_type": "execute_result"
    }
   ],
   "source": [
    "#Cargar los datos\n",
    "train_data = pd.read_csv('data/train.csv')\n",
    "\n",
    "#Convertir la columna 'date' a formato datetime\n",
    "train_data['date'] = pd.to_datetime(train_data['date'])\n",
    "\n",
    "#Extraer características de la fecha\n",
    "train_data['year'] = train_data['date'].dt.year\n",
    "train_data['month'] = train_data['date'].dt.month\n",
    "train_data['day_of_week'] = train_data['date'].dt.dayofweek\n",
    "\n",
    "#Escalar los datos de ventas ('sales') usando StandardScaler\n",
    "scaler = StandardScaler()\n",
    "train_data['sales_scaled'] = scaler.fit_transform(train_data[['sales']])\n",
    "\n",
    "#Verificar los primeros datos transformados\n",
    "train_data.head()\n"
   ]
  },
  {
   "cell_type": "markdown",
   "metadata": {},
   "source": [
    "## Preprocesamiento de datos"
   ]
  },
  {
   "cell_type": "code",
   "execution_count": 4,
   "metadata": {},
   "outputs": [],
   "source": [
    "#Dividir el conjunto de datos en entrenamiento, validación y prueba\n",
    "train_size = 0.70  # 70% para entrenamiento\n",
    "validation_size = 0.15  # 15% para validación\n",
    "test_size = 0.15  # 15% para prueba\n",
    "\n",
    "total_rows = len(train_data)\n",
    "train_index = int(total_rows * train_size)\n",
    "validation_index = int(total_rows * (train_size + validation_size))\n",
    "\n",
    "train_set = train_data.iloc[:train_index]\n",
    "validation_set = train_data.iloc[train_index:validation_index]\n",
    "test_set = train_data.iloc[validation_index:]"
   ]
  },
  {
   "cell_type": "code",
   "execution_count": 5,
   "metadata": {},
   "outputs": [],
   "source": [
    "#Función para generar secuencias de datos históricos y pronósticos\n",
    "def create_sequences(data, window_size, forecast_horizon):\n",
    "    sequences = []\n",
    "    targets = []\n",
    "    \n",
    "    for i in range(len(data) - window_size - forecast_horizon + 1):\n",
    "        window = data.iloc[i:i + window_size]['sales'].values\n",
    "        target = data.iloc[i + window_size:i + window_size + forecast_horizon]['sales'].sum()\n",
    "        sequences.append(window)\n",
    "        targets.append(target)\n",
    "    \n",
    "    return np.array(sequences), np.array(targets)"
   ]
  },
  {
   "cell_type": "code",
   "execution_count": 6,
   "metadata": {},
   "outputs": [],
   "source": [
    "#Parámetros de secuencias\n",
    "window_size = 90  #Ventana histórica de 90 días\n",
    "forecast_horizon = 90  #Pronóstico de 3 meses (90 días)\n",
    "\n",
    "#Muestra para entrenar y generar secuencias\n",
    "train_sample = train_set.sample(n=50000, random_state=42)"
   ]
  },
  {
   "cell_type": "code",
   "execution_count": 7,
   "metadata": {},
   "outputs": [],
   "source": [
    "#Generar secuencias para el conjunto de entrenamiento\n",
    "train_sequences, train_targets = create_sequences(train_sample, window_size, forecast_horizon)"
   ]
  },
  {
   "cell_type": "code",
   "execution_count": 8,
   "metadata": {},
   "outputs": [
    {
     "name": "stdout",
     "output_type": "stream",
     "text": [
      "Dimensiones de las secuencias de entrenamiento: (49821, 90)\n",
      "Dimensiones de los objetivos de entrenamiento: (49821,)\n"
     ]
    }
   ],
   "source": [
    "#Imprimir las dimensiones de las secuencias generadas\n",
    "print(\"Dimensiones de las secuencias de entrenamiento:\", train_sequences.shape)\n",
    "print(\"Dimensiones de los objetivos de entrenamiento:\", train_targets.shape)"
   ]
  },
  {
   "cell_type": "markdown",
   "metadata": {},
   "source": [
    "# Task 2"
   ]
  },
  {
   "cell_type": "markdown",
   "metadata": {},
   "source": [
    "#### 1. ¿Cuál es el problema del gradiente de fuga en las redes LSTM y cómo afecta la efectividad de LSTM para el pronóstico de series temporales?\n",
    "* lorem ipsum\n"
   ]
  },
  {
   "cell_type": "markdown",
   "metadata": {},
   "source": [
    "#### 2. ¿Cómo se aborda la estacionalidad en los datos de series temporales cuando se utilizan LSTM para realizar pronósticos y qué papel juega la diferenciación en el proceso?\n",
    "* lorem ipsum"
   ]
  },
  {
   "cell_type": "markdown",
   "metadata": {},
   "source": [
    "#### 3. ¿Cuál es el concepto de \"tamaño de ventana\" en el pronóstico de series temporales con LSTM y cómo afecta la elección del tamaño de ventana a la capacidad del modelo para capturar patrones a corto y largo plazo?\n",
    "* lorem ipsum"
   ]
  },
  {
   "cell_type": "markdown",
   "metadata": {},
   "source": [
    "### Referencias\n",
    "1. "
   ]
  }
 ],
 "metadata": {
  "kernelspec": {
   "display_name": "Python 3 (ipykernel)",
   "language": "python",
   "name": "python3"
  },
  "language_info": {
   "codemirror_mode": {
    "name": "ipython",
    "version": 3
   },
   "file_extension": ".py",
   "mimetype": "text/x-python",
   "name": "python",
   "nbconvert_exporter": "python",
   "pygments_lexer": "ipython3",
   "version": "3.10.11"
  }
 },
 "nbformat": 4,
 "nbformat_minor": 4
}
